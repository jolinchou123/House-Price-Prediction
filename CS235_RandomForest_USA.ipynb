{
 "cells": [
  {
   "cell_type": "code",
   "execution_count": 1,
   "metadata": {},
   "outputs": [],
   "source": [
    "import numpy as np\n",
    "import pandas as pd\n",
    "\n",
    "#regression\n",
    "from sklearn.ensemble import RandomForestRegressor\n",
    "\n",
    "#model selection\n",
    "from sklearn.model_selection import GridSearchCV\n",
    "from sklearn.model_selection import train_test_split\n",
    "\n",
    "#evaluation metrics\n",
    "from sklearn.metrics import mean_squared_log_error,mean_squared_error, r2_score,mean_absolute_error\n",
    "\n",
    "import matplotlib.pyplot as plt\n",
    "\n",
    "#Data preparation\n",
    "County_time_series=pd.read_csv(\"County_time_series.csv\", parse_dates=True)\n",
    "CountyCrossWalk = pd.read_csv(\"CountyCrossWalk_Zillow.csv\")"
   ]
  },
  {
   "cell_type": "code",
   "execution_count": 2,
   "metadata": {},
   "outputs": [
    {
     "data": {
      "text/html": [
       "<div>\n",
       "<style scoped>\n",
       "    .dataframe tbody tr th:only-of-type {\n",
       "        vertical-align: middle;\n",
       "    }\n",
       "\n",
       "    .dataframe tbody tr th {\n",
       "        vertical-align: top;\n",
       "    }\n",
       "\n",
       "    .dataframe thead th {\n",
       "        text-align: right;\n",
       "    }\n",
       "</style>\n",
       "<table border=\"1\" class=\"dataframe\">\n",
       "  <thead>\n",
       "    <tr style=\"text-align: right;\">\n",
       "      <th></th>\n",
       "      <th>Date</th>\n",
       "      <th>RegionName</th>\n",
       "      <th>DaysOnZillow_AllHomes</th>\n",
       "      <th>InventorySeasonallyAdjusted_AllHomes</th>\n",
       "      <th>InventoryRaw_AllHomes</th>\n",
       "      <th>MedianListingPricePerSqft_1Bedroom</th>\n",
       "      <th>MedianListingPricePerSqft_2Bedroom</th>\n",
       "      <th>MedianListingPricePerSqft_3Bedroom</th>\n",
       "      <th>MedianListingPricePerSqft_4Bedroom</th>\n",
       "      <th>MedianListingPricePerSqft_5BedroomOrMore</th>\n",
       "      <th>...</th>\n",
       "      <th>ZHVI_CondoCoop</th>\n",
       "      <th>ZHVI_MiddleTier</th>\n",
       "      <th>ZHVI_SingleFamilyResidence</th>\n",
       "      <th>ZHVI_TopTier</th>\n",
       "      <th>ZRI_AllHomes</th>\n",
       "      <th>ZRI_AllHomesPlusMultifamily</th>\n",
       "      <th>ZriPerSqft_AllHomes</th>\n",
       "      <th>Zri_MultiFamilyResidenceRental</th>\n",
       "      <th>Zri_SingleFamilyResidenceRental</th>\n",
       "      <th>Year</th>\n",
       "    </tr>\n",
       "  </thead>\n",
       "  <tbody>\n",
       "    <tr>\n",
       "      <th>0</th>\n",
       "      <td>1996-04-30</td>\n",
       "      <td>10001</td>\n",
       "      <td>NaN</td>\n",
       "      <td>NaN</td>\n",
       "      <td>NaN</td>\n",
       "      <td>NaN</td>\n",
       "      <td>NaN</td>\n",
       "      <td>NaN</td>\n",
       "      <td>NaN</td>\n",
       "      <td>NaN</td>\n",
       "      <td>...</td>\n",
       "      <td>NaN</td>\n",
       "      <td>85700.0</td>\n",
       "      <td>86000.0</td>\n",
       "      <td>129700.0</td>\n",
       "      <td>NaN</td>\n",
       "      <td>NaN</td>\n",
       "      <td>NaN</td>\n",
       "      <td>NaN</td>\n",
       "      <td>NaN</td>\n",
       "      <td>1996</td>\n",
       "    </tr>\n",
       "    <tr>\n",
       "      <th>1</th>\n",
       "      <td>1996-04-30</td>\n",
       "      <td>10003</td>\n",
       "      <td>NaN</td>\n",
       "      <td>NaN</td>\n",
       "      <td>NaN</td>\n",
       "      <td>NaN</td>\n",
       "      <td>NaN</td>\n",
       "      <td>NaN</td>\n",
       "      <td>NaN</td>\n",
       "      <td>NaN</td>\n",
       "      <td>...</td>\n",
       "      <td>NaN</td>\n",
       "      <td>116800.0</td>\n",
       "      <td>116900.0</td>\n",
       "      <td>181400.0</td>\n",
       "      <td>NaN</td>\n",
       "      <td>NaN</td>\n",
       "      <td>NaN</td>\n",
       "      <td>NaN</td>\n",
       "      <td>NaN</td>\n",
       "      <td>1996</td>\n",
       "    </tr>\n",
       "    <tr>\n",
       "      <th>2</th>\n",
       "      <td>1996-04-30</td>\n",
       "      <td>1003</td>\n",
       "      <td>NaN</td>\n",
       "      <td>NaN</td>\n",
       "      <td>NaN</td>\n",
       "      <td>NaN</td>\n",
       "      <td>NaN</td>\n",
       "      <td>NaN</td>\n",
       "      <td>NaN</td>\n",
       "      <td>NaN</td>\n",
       "      <td>...</td>\n",
       "      <td>NaN</td>\n",
       "      <td>110600.0</td>\n",
       "      <td>106800.0</td>\n",
       "      <td>192300.0</td>\n",
       "      <td>NaN</td>\n",
       "      <td>NaN</td>\n",
       "      <td>NaN</td>\n",
       "      <td>NaN</td>\n",
       "      <td>NaN</td>\n",
       "      <td>1996</td>\n",
       "    </tr>\n",
       "    <tr>\n",
       "      <th>3</th>\n",
       "      <td>1996-04-30</td>\n",
       "      <td>1009</td>\n",
       "      <td>NaN</td>\n",
       "      <td>NaN</td>\n",
       "      <td>NaN</td>\n",
       "      <td>NaN</td>\n",
       "      <td>NaN</td>\n",
       "      <td>NaN</td>\n",
       "      <td>NaN</td>\n",
       "      <td>NaN</td>\n",
       "      <td>...</td>\n",
       "      <td>NaN</td>\n",
       "      <td>70000.0</td>\n",
       "      <td>70000.0</td>\n",
       "      <td>123500.0</td>\n",
       "      <td>NaN</td>\n",
       "      <td>NaN</td>\n",
       "      <td>NaN</td>\n",
       "      <td>NaN</td>\n",
       "      <td>NaN</td>\n",
       "      <td>1996</td>\n",
       "    </tr>\n",
       "    <tr>\n",
       "      <th>4</th>\n",
       "      <td>1996-04-30</td>\n",
       "      <td>1017</td>\n",
       "      <td>NaN</td>\n",
       "      <td>NaN</td>\n",
       "      <td>NaN</td>\n",
       "      <td>NaN</td>\n",
       "      <td>NaN</td>\n",
       "      <td>NaN</td>\n",
       "      <td>NaN</td>\n",
       "      <td>NaN</td>\n",
       "      <td>...</td>\n",
       "      <td>NaN</td>\n",
       "      <td>NaN</td>\n",
       "      <td>NaN</td>\n",
       "      <td>NaN</td>\n",
       "      <td>NaN</td>\n",
       "      <td>NaN</td>\n",
       "      <td>NaN</td>\n",
       "      <td>NaN</td>\n",
       "      <td>NaN</td>\n",
       "      <td>1996</td>\n",
       "    </tr>\n",
       "  </tbody>\n",
       "</table>\n",
       "<p>5 rows × 83 columns</p>\n",
       "</div>"
      ],
      "text/plain": [
       "        Date  RegionName  DaysOnZillow_AllHomes  \\\n",
       "0 1996-04-30       10001                    NaN   \n",
       "1 1996-04-30       10003                    NaN   \n",
       "2 1996-04-30        1003                    NaN   \n",
       "3 1996-04-30        1009                    NaN   \n",
       "4 1996-04-30        1017                    NaN   \n",
       "\n",
       "   InventorySeasonallyAdjusted_AllHomes  InventoryRaw_AllHomes  \\\n",
       "0                                   NaN                    NaN   \n",
       "1                                   NaN                    NaN   \n",
       "2                                   NaN                    NaN   \n",
       "3                                   NaN                    NaN   \n",
       "4                                   NaN                    NaN   \n",
       "\n",
       "   MedianListingPricePerSqft_1Bedroom  MedianListingPricePerSqft_2Bedroom  \\\n",
       "0                                 NaN                                 NaN   \n",
       "1                                 NaN                                 NaN   \n",
       "2                                 NaN                                 NaN   \n",
       "3                                 NaN                                 NaN   \n",
       "4                                 NaN                                 NaN   \n",
       "\n",
       "   MedianListingPricePerSqft_3Bedroom  MedianListingPricePerSqft_4Bedroom  \\\n",
       "0                                 NaN                                 NaN   \n",
       "1                                 NaN                                 NaN   \n",
       "2                                 NaN                                 NaN   \n",
       "3                                 NaN                                 NaN   \n",
       "4                                 NaN                                 NaN   \n",
       "\n",
       "   MedianListingPricePerSqft_5BedroomOrMore  ...  ZHVI_CondoCoop  \\\n",
       "0                                       NaN  ...             NaN   \n",
       "1                                       NaN  ...             NaN   \n",
       "2                                       NaN  ...             NaN   \n",
       "3                                       NaN  ...             NaN   \n",
       "4                                       NaN  ...             NaN   \n",
       "\n",
       "   ZHVI_MiddleTier  ZHVI_SingleFamilyResidence  ZHVI_TopTier  ZRI_AllHomes  \\\n",
       "0          85700.0                     86000.0      129700.0           NaN   \n",
       "1         116800.0                    116900.0      181400.0           NaN   \n",
       "2         110600.0                    106800.0      192300.0           NaN   \n",
       "3          70000.0                     70000.0      123500.0           NaN   \n",
       "4              NaN                         NaN           NaN           NaN   \n",
       "\n",
       "   ZRI_AllHomesPlusMultifamily  ZriPerSqft_AllHomes  \\\n",
       "0                          NaN                  NaN   \n",
       "1                          NaN                  NaN   \n",
       "2                          NaN                  NaN   \n",
       "3                          NaN                  NaN   \n",
       "4                          NaN                  NaN   \n",
       "\n",
       "   Zri_MultiFamilyResidenceRental  Zri_SingleFamilyResidenceRental  Year  \n",
       "0                             NaN                              NaN  1996  \n",
       "1                             NaN                              NaN  1996  \n",
       "2                             NaN                              NaN  1996  \n",
       "3                             NaN                              NaN  1996  \n",
       "4                             NaN                              NaN  1996  \n",
       "\n",
       "[5 rows x 83 columns]"
      ]
     },
     "execution_count": 2,
     "metadata": {},
     "output_type": "execute_result"
    }
   ],
   "source": [
    "County_time_series.Date=pd.to_datetime(County_time_series.Date)\n",
    "County_time_series['Year'] = County_time_series.Date.dt.year\n",
    "County_time_series.head()"
   ]
  },
  {
   "cell_type": "code",
   "execution_count": 3,
   "metadata": {},
   "outputs": [
    {
     "data": {
      "text/html": [
       "<div>\n",
       "<style scoped>\n",
       "    .dataframe tbody tr th:only-of-type {\n",
       "        vertical-align: middle;\n",
       "    }\n",
       "\n",
       "    .dataframe tbody tr th {\n",
       "        vertical-align: top;\n",
       "    }\n",
       "\n",
       "    .dataframe thead th {\n",
       "        text-align: right;\n",
       "    }\n",
       "</style>\n",
       "<table border=\"1\" class=\"dataframe\">\n",
       "  <thead>\n",
       "    <tr style=\"text-align: right;\">\n",
       "      <th></th>\n",
       "      <th>Date</th>\n",
       "      <th>Year</th>\n",
       "      <th>RegionName</th>\n",
       "      <th>MedianListingPrice_AllHomes</th>\n",
       "      <th>Sale_Prices</th>\n",
       "      <th>ZHVI_AllHomes</th>\n",
       "      <th>ZHVI_BottomTier</th>\n",
       "      <th>ZHVI_TopTier</th>\n",
       "      <th>ZHVI_MiddleTier</th>\n",
       "    </tr>\n",
       "  </thead>\n",
       "  <tbody>\n",
       "    <tr>\n",
       "      <th>0</th>\n",
       "      <td>1996-04-30</td>\n",
       "      <td>1996</td>\n",
       "      <td>10001</td>\n",
       "      <td>NaN</td>\n",
       "      <td>NaN</td>\n",
       "      <td>85700.0</td>\n",
       "      <td>65600.0</td>\n",
       "      <td>129700.0</td>\n",
       "      <td>85700.0</td>\n",
       "    </tr>\n",
       "    <tr>\n",
       "      <th>1</th>\n",
       "      <td>1996-04-30</td>\n",
       "      <td>1996</td>\n",
       "      <td>10003</td>\n",
       "      <td>NaN</td>\n",
       "      <td>NaN</td>\n",
       "      <td>116800.0</td>\n",
       "      <td>81900.0</td>\n",
       "      <td>181400.0</td>\n",
       "      <td>116800.0</td>\n",
       "    </tr>\n",
       "    <tr>\n",
       "      <th>2</th>\n",
       "      <td>1996-04-30</td>\n",
       "      <td>1996</td>\n",
       "      <td>1003</td>\n",
       "      <td>NaN</td>\n",
       "      <td>NaN</td>\n",
       "      <td>110600.0</td>\n",
       "      <td>70600.0</td>\n",
       "      <td>192300.0</td>\n",
       "      <td>110600.0</td>\n",
       "    </tr>\n",
       "    <tr>\n",
       "      <th>3</th>\n",
       "      <td>1996-04-30</td>\n",
       "      <td>1996</td>\n",
       "      <td>1009</td>\n",
       "      <td>NaN</td>\n",
       "      <td>NaN</td>\n",
       "      <td>70000.0</td>\n",
       "      <td>NaN</td>\n",
       "      <td>123500.0</td>\n",
       "      <td>70000.0</td>\n",
       "    </tr>\n",
       "    <tr>\n",
       "      <th>4</th>\n",
       "      <td>1996-04-30</td>\n",
       "      <td>1996</td>\n",
       "      <td>1017</td>\n",
       "      <td>NaN</td>\n",
       "      <td>NaN</td>\n",
       "      <td>NaN</td>\n",
       "      <td>NaN</td>\n",
       "      <td>NaN</td>\n",
       "      <td>NaN</td>\n",
       "    </tr>\n",
       "  </tbody>\n",
       "</table>\n",
       "</div>"
      ],
      "text/plain": [
       "        Date  Year  RegionName  MedianListingPrice_AllHomes  Sale_Prices  \\\n",
       "0 1996-04-30  1996       10001                          NaN          NaN   \n",
       "1 1996-04-30  1996       10003                          NaN          NaN   \n",
       "2 1996-04-30  1996        1003                          NaN          NaN   \n",
       "3 1996-04-30  1996        1009                          NaN          NaN   \n",
       "4 1996-04-30  1996        1017                          NaN          NaN   \n",
       "\n",
       "   ZHVI_AllHomes  ZHVI_BottomTier  ZHVI_TopTier  ZHVI_MiddleTier  \n",
       "0        85700.0          65600.0      129700.0          85700.0  \n",
       "1       116800.0          81900.0      181400.0         116800.0  \n",
       "2       110600.0          70600.0      192300.0         110600.0  \n",
       "3        70000.0              NaN      123500.0          70000.0  \n",
       "4            NaN              NaN           NaN              NaN  "
      ]
     },
     "execution_count": 3,
     "metadata": {},
     "output_type": "execute_result"
    }
   ],
   "source": [
    "#Feature selection\n",
    "County_time_series=County_time_series[['Date','Year', 'RegionName','MedianListingPrice_AllHomes','Sale_Prices','ZHVI_AllHomes', 'ZHVI_BottomTier','ZHVI_TopTier','ZHVI_MiddleTier']]\n",
    "County_time_series.head()"
   ]
  },
  {
   "cell_type": "code",
   "execution_count": 4,
   "metadata": {},
   "outputs": [
    {
     "data": {
      "text/html": [
       "<div>\n",
       "<style scoped>\n",
       "    .dataframe tbody tr th:only-of-type {\n",
       "        vertical-align: middle;\n",
       "    }\n",
       "\n",
       "    .dataframe tbody tr th {\n",
       "        vertical-align: top;\n",
       "    }\n",
       "\n",
       "    .dataframe thead th {\n",
       "        text-align: right;\n",
       "    }\n",
       "</style>\n",
       "<table border=\"1\" class=\"dataframe\">\n",
       "  <thead>\n",
       "    <tr style=\"text-align: right;\">\n",
       "      <th></th>\n",
       "      <th>Date</th>\n",
       "      <th>Year</th>\n",
       "      <th>FIPS</th>\n",
       "      <th>MedianListingPrice_AllHomes</th>\n",
       "      <th>Sale_Prices</th>\n",
       "      <th>AverageHousePrice</th>\n",
       "      <th>ZHVI_BottomTier</th>\n",
       "      <th>ZHVI_TopTier</th>\n",
       "      <th>ZHVI_MiddleTier</th>\n",
       "    </tr>\n",
       "  </thead>\n",
       "  <tbody>\n",
       "    <tr>\n",
       "      <th>0</th>\n",
       "      <td>1996-04-30</td>\n",
       "      <td>1996</td>\n",
       "      <td>10001</td>\n",
       "      <td>NaN</td>\n",
       "      <td>NaN</td>\n",
       "      <td>85700.0</td>\n",
       "      <td>65600.0</td>\n",
       "      <td>129700.0</td>\n",
       "      <td>85700.0</td>\n",
       "    </tr>\n",
       "    <tr>\n",
       "      <th>1</th>\n",
       "      <td>1996-04-30</td>\n",
       "      <td>1996</td>\n",
       "      <td>10003</td>\n",
       "      <td>NaN</td>\n",
       "      <td>NaN</td>\n",
       "      <td>116800.0</td>\n",
       "      <td>81900.0</td>\n",
       "      <td>181400.0</td>\n",
       "      <td>116800.0</td>\n",
       "    </tr>\n",
       "    <tr>\n",
       "      <th>2</th>\n",
       "      <td>1996-04-30</td>\n",
       "      <td>1996</td>\n",
       "      <td>1003</td>\n",
       "      <td>NaN</td>\n",
       "      <td>NaN</td>\n",
       "      <td>110600.0</td>\n",
       "      <td>70600.0</td>\n",
       "      <td>192300.0</td>\n",
       "      <td>110600.0</td>\n",
       "    </tr>\n",
       "    <tr>\n",
       "      <th>3</th>\n",
       "      <td>1996-04-30</td>\n",
       "      <td>1996</td>\n",
       "      <td>1009</td>\n",
       "      <td>NaN</td>\n",
       "      <td>NaN</td>\n",
       "      <td>70000.0</td>\n",
       "      <td>NaN</td>\n",
       "      <td>123500.0</td>\n",
       "      <td>70000.0</td>\n",
       "    </tr>\n",
       "    <tr>\n",
       "      <th>4</th>\n",
       "      <td>1996-04-30</td>\n",
       "      <td>1996</td>\n",
       "      <td>1017</td>\n",
       "      <td>NaN</td>\n",
       "      <td>NaN</td>\n",
       "      <td>NaN</td>\n",
       "      <td>NaN</td>\n",
       "      <td>NaN</td>\n",
       "      <td>NaN</td>\n",
       "    </tr>\n",
       "  </tbody>\n",
       "</table>\n",
       "</div>"
      ],
      "text/plain": [
       "        Date  Year   FIPS  MedianListingPrice_AllHomes  Sale_Prices  \\\n",
       "0 1996-04-30  1996  10001                          NaN          NaN   \n",
       "1 1996-04-30  1996  10003                          NaN          NaN   \n",
       "2 1996-04-30  1996   1003                          NaN          NaN   \n",
       "3 1996-04-30  1996   1009                          NaN          NaN   \n",
       "4 1996-04-30  1996   1017                          NaN          NaN   \n",
       "\n",
       "   AverageHousePrice  ZHVI_BottomTier  ZHVI_TopTier  ZHVI_MiddleTier  \n",
       "0            85700.0          65600.0      129700.0          85700.0  \n",
       "1           116800.0          81900.0      181400.0         116800.0  \n",
       "2           110600.0          70600.0      192300.0         110600.0  \n",
       "3            70000.0              NaN      123500.0          70000.0  \n",
       "4                NaN              NaN           NaN              NaN  "
      ]
     },
     "execution_count": 4,
     "metadata": {},
     "output_type": "execute_result"
    }
   ],
   "source": [
    "County_time_series.rename(index=str, columns={\"RegionName\": \"FIPS\", \"ZHVI_AllHomes\": \"AverageHousePrice\"}, inplace=True)\n",
    "County_time_series.head()"
   ]
  },
  {
   "cell_type": "code",
   "execution_count": 5,
   "metadata": {},
   "outputs": [
    {
     "data": {
      "text/html": [
       "<div>\n",
       "<style scoped>\n",
       "    .dataframe tbody tr th:only-of-type {\n",
       "        vertical-align: middle;\n",
       "    }\n",
       "\n",
       "    .dataframe tbody tr th {\n",
       "        vertical-align: top;\n",
       "    }\n",
       "\n",
       "    .dataframe thead th {\n",
       "        text-align: right;\n",
       "    }\n",
       "</style>\n",
       "<table border=\"1\" class=\"dataframe\">\n",
       "  <thead>\n",
       "    <tr style=\"text-align: right;\">\n",
       "      <th></th>\n",
       "      <th>FIPS</th>\n",
       "      <th>CountyName</th>\n",
       "      <th>StateName</th>\n",
       "    </tr>\n",
       "  </thead>\n",
       "  <tbody>\n",
       "    <tr>\n",
       "      <th>0</th>\n",
       "      <td>42103</td>\n",
       "      <td>Pike</td>\n",
       "      <td>Pennsylvania</td>\n",
       "    </tr>\n",
       "    <tr>\n",
       "      <th>1</th>\n",
       "      <td>36005</td>\n",
       "      <td>Bronx</td>\n",
       "      <td>New York</td>\n",
       "    </tr>\n",
       "    <tr>\n",
       "      <th>2</th>\n",
       "      <td>34013</td>\n",
       "      <td>Essex</td>\n",
       "      <td>New Jersey</td>\n",
       "    </tr>\n",
       "    <tr>\n",
       "      <th>3</th>\n",
       "      <td>36047</td>\n",
       "      <td>Kings</td>\n",
       "      <td>New York</td>\n",
       "    </tr>\n",
       "    <tr>\n",
       "      <th>4</th>\n",
       "      <td>34029</td>\n",
       "      <td>Ocean</td>\n",
       "      <td>New Jersey</td>\n",
       "    </tr>\n",
       "  </tbody>\n",
       "</table>\n",
       "</div>"
      ],
      "text/plain": [
       "    FIPS CountyName     StateName\n",
       "0  42103       Pike  Pennsylvania\n",
       "1  36005      Bronx      New York\n",
       "2  34013      Essex    New Jersey\n",
       "3  36047      Kings      New York\n",
       "4  34029      Ocean    New Jersey"
      ]
     },
     "execution_count": 5,
     "metadata": {},
     "output_type": "execute_result"
    }
   ],
   "source": [
    "#selecting and displaying three columns from the dataset\n",
    "CountyCrossWalk = CountyCrossWalk[['FIPS', 'CountyName', 'StateName']]\n",
    "CountyCrossWalk[\"FIPS\"] = CountyCrossWalk[\"FIPS\"].astype(\"int64\")\n",
    "CountyCrossWalk.head()"
   ]
  },
  {
   "cell_type": "code",
   "execution_count": 6,
   "metadata": {},
   "outputs": [
    {
     "data": {
      "text/plain": [
       "Date                                0\n",
       "Year                                0\n",
       "FIPS                                0\n",
       "MedianListingPrice_AllHomes    358378\n",
       "Sale_Prices                    491688\n",
       "AverageHousePrice              137950\n",
       "ZHVI_BottomTier                203787\n",
       "ZHVI_TopTier                   126411\n",
       "ZHVI_MiddleTier                137974\n",
       "dtype: int64"
      ]
     },
     "execution_count": 6,
     "metadata": {},
     "output_type": "execute_result"
    }
   ],
   "source": [
    "County_time_series.isna().sum()"
   ]
  },
  {
   "cell_type": "code",
   "execution_count": 7,
   "metadata": {
    "scrolled": true
   },
   "outputs": [
    {
     "data": {
      "text/plain": [
       "Date                           0\n",
       "Year                           0\n",
       "FIPS                           0\n",
       "MedianListingPrice_AllHomes    0\n",
       "Sale_Prices                    0\n",
       "AverageHousePrice              0\n",
       "ZHVI_BottomTier                0\n",
       "ZHVI_TopTier                   0\n",
       "ZHVI_MiddleTier                0\n",
       "dtype: int64"
      ]
     },
     "execution_count": 7,
     "metadata": {},
     "output_type": "execute_result"
    }
   ],
   "source": [
    "#Treating null values\n",
    "County_time_series['MedianListingPrice_AllHomes'].fillna(value=County_time_series['MedianListingPrice_AllHomes'].mean(), inplace=True)\n",
    "County_time_series['Sale_Prices'].fillna(value=County_time_series['Sale_Prices'].median(), inplace=True)\n",
    "County_time_series['AverageHousePrice'].fillna(value=County_time_series['AverageHousePrice'].median(), inplace=True)\n",
    "County_time_series['ZHVI_BottomTier'].fillna(value=County_time_series['ZHVI_BottomTier'].median(), inplace=True)\n",
    "County_time_series['ZHVI_TopTier'].fillna(value=County_time_series['ZHVI_TopTier'].median(), inplace=True)\n",
    "County_time_series['ZHVI_MiddleTier'].fillna(value=County_time_series['ZHVI_MiddleTier'].median(), inplace=True)\n",
    "County_time_series.isna().sum()"
   ]
  },
  {
   "cell_type": "code",
   "execution_count": 8,
   "metadata": {},
   "outputs": [
    {
     "data": {
      "text/plain": [
       "FIPS          0\n",
       "CountyName    0\n",
       "StateName     0\n",
       "dtype: int64"
      ]
     },
     "execution_count": 8,
     "metadata": {},
     "output_type": "execute_result"
    }
   ],
   "source": [
    "CountyCrossWalk.isna().sum()"
   ]
  },
  {
   "cell_type": "code",
   "execution_count": 9,
   "metadata": {},
   "outputs": [
    {
     "data": {
      "text/html": [
       "<div>\n",
       "<style scoped>\n",
       "    .dataframe tbody tr th:only-of-type {\n",
       "        vertical-align: middle;\n",
       "    }\n",
       "\n",
       "    .dataframe tbody tr th {\n",
       "        vertical-align: top;\n",
       "    }\n",
       "\n",
       "    .dataframe thead th {\n",
       "        text-align: right;\n",
       "    }\n",
       "</style>\n",
       "<table border=\"1\" class=\"dataframe\">\n",
       "  <thead>\n",
       "    <tr style=\"text-align: right;\">\n",
       "      <th></th>\n",
       "      <th>Date</th>\n",
       "      <th>Year</th>\n",
       "      <th>FIPS</th>\n",
       "      <th>MedianListingPrice_AllHomes</th>\n",
       "      <th>Sale_Prices</th>\n",
       "      <th>AverageHousePrice</th>\n",
       "      <th>ZHVI_BottomTier</th>\n",
       "      <th>ZHVI_TopTier</th>\n",
       "      <th>ZHVI_MiddleTier</th>\n",
       "      <th>CountyName</th>\n",
       "      <th>StateName</th>\n",
       "    </tr>\n",
       "  </thead>\n",
       "  <tbody>\n",
       "    <tr>\n",
       "      <th>0</th>\n",
       "      <td>1996-04-30</td>\n",
       "      <td>1996</td>\n",
       "      <td>10001</td>\n",
       "      <td>187952.787545</td>\n",
       "      <td>191500.0</td>\n",
       "      <td>85700.0</td>\n",
       "      <td>65600.0</td>\n",
       "      <td>129700.0</td>\n",
       "      <td>85700.0</td>\n",
       "      <td>Kent</td>\n",
       "      <td>Delaware</td>\n",
       "    </tr>\n",
       "    <tr>\n",
       "      <th>1</th>\n",
       "      <td>1996-05-31</td>\n",
       "      <td>1996</td>\n",
       "      <td>10001</td>\n",
       "      <td>187952.787545</td>\n",
       "      <td>191500.0</td>\n",
       "      <td>86800.0</td>\n",
       "      <td>65800.0</td>\n",
       "      <td>130000.0</td>\n",
       "      <td>86800.0</td>\n",
       "      <td>Kent</td>\n",
       "      <td>Delaware</td>\n",
       "    </tr>\n",
       "    <tr>\n",
       "      <th>2</th>\n",
       "      <td>1996-06-30</td>\n",
       "      <td>1996</td>\n",
       "      <td>10001</td>\n",
       "      <td>187952.787545</td>\n",
       "      <td>191500.0</td>\n",
       "      <td>88100.0</td>\n",
       "      <td>65600.0</td>\n",
       "      <td>129900.0</td>\n",
       "      <td>88100.0</td>\n",
       "      <td>Kent</td>\n",
       "      <td>Delaware</td>\n",
       "    </tr>\n",
       "    <tr>\n",
       "      <th>3</th>\n",
       "      <td>1996-07-31</td>\n",
       "      <td>1996</td>\n",
       "      <td>10001</td>\n",
       "      <td>187952.787545</td>\n",
       "      <td>191500.0</td>\n",
       "      <td>89100.0</td>\n",
       "      <td>65400.0</td>\n",
       "      <td>129600.0</td>\n",
       "      <td>89100.0</td>\n",
       "      <td>Kent</td>\n",
       "      <td>Delaware</td>\n",
       "    </tr>\n",
       "    <tr>\n",
       "      <th>4</th>\n",
       "      <td>1996-08-31</td>\n",
       "      <td>1996</td>\n",
       "      <td>10001</td>\n",
       "      <td>187952.787545</td>\n",
       "      <td>191500.0</td>\n",
       "      <td>89700.0</td>\n",
       "      <td>65200.0</td>\n",
       "      <td>129900.0</td>\n",
       "      <td>89700.0</td>\n",
       "      <td>Kent</td>\n",
       "      <td>Delaware</td>\n",
       "    </tr>\n",
       "  </tbody>\n",
       "</table>\n",
       "</div>"
      ],
      "text/plain": [
       "        Date  Year   FIPS  MedianListingPrice_AllHomes  Sale_Prices  \\\n",
       "0 1996-04-30  1996  10001                187952.787545     191500.0   \n",
       "1 1996-05-31  1996  10001                187952.787545     191500.0   \n",
       "2 1996-06-30  1996  10001                187952.787545     191500.0   \n",
       "3 1996-07-31  1996  10001                187952.787545     191500.0   \n",
       "4 1996-08-31  1996  10001                187952.787545     191500.0   \n",
       "\n",
       "   AverageHousePrice  ZHVI_BottomTier  ZHVI_TopTier  ZHVI_MiddleTier  \\\n",
       "0            85700.0          65600.0      129700.0          85700.0   \n",
       "1            86800.0          65800.0      130000.0          86800.0   \n",
       "2            88100.0          65600.0      129900.0          88100.0   \n",
       "3            89100.0          65400.0      129600.0          89100.0   \n",
       "4            89700.0          65200.0      129900.0          89700.0   \n",
       "\n",
       "  CountyName StateName  \n",
       "0       Kent  Delaware  \n",
       "1       Kent  Delaware  \n",
       "2       Kent  Delaware  \n",
       "3       Kent  Delaware  \n",
       "4       Kent  Delaware  "
      ]
     },
     "execution_count": 9,
     "metadata": {},
     "output_type": "execute_result"
    }
   ],
   "source": [
    "#merged dataset\n",
    "new = County_time_series.merge(CountyCrossWalk, on=\"FIPS\")\n",
    "new.head()"
   ]
  },
  {
   "cell_type": "code",
   "execution_count": 10,
   "metadata": {},
   "outputs": [
    {
     "data": {
      "image/png": "[encoded data removed]",
      "text/plain": [
       "<Figure size 1080x432 with 1 Axes>"
      ]
     },
     "metadata": {
      "needs_background": "light"
     },
     "output_type": "display_data"
    }
   ],
   "source": [
    "new.groupby(new['Year'])['Sale_Prices'].mean().dropna().plot(linewidth=4, figsize=(15, 6))\n",
    "plt.xlabel('Year')\n",
    "plt.ylabel('Sale Price')\n",
    "plt.title('Median Sold Prices by Year',fontsize = 14)\n",
    "plt.show()"
   ]
  },
  {
   "cell_type": "code",
   "execution_count": 11,
   "metadata": {},
   "outputs": [
    {
     "data": {
      "image/png": "[encoded data removed]",
      "text/plain": [
       "<Figure size 1080x432 with 1 Axes>"
      ]
     },
     "metadata": {
      "needs_background": "light"
     },
     "output_type": "display_data"
    }
   ],
   "source": [
    "new.groupby(new['Year'])['MedianListingPrice_AllHomes'].mean().dropna().plot(linewidth=4, figsize=(15, 6))\n",
    "plt.xlabel('Year')\n",
    "plt.ylabel('Median Price')\n",
    "plt.title('Listing Prices Per SquareFoot in US',fontsize = 14)\n",
    "plt.show()"
   ]
  },
  {
   "cell_type": "code",
   "execution_count": 12,
   "metadata": {},
   "outputs": [
    {
     "data": {
      "text/plain": [
       "<matplotlib.legend.Legend at 0x7ff6a7c38d60>"
      ]
     },
     "execution_count": 12,
     "metadata": {},
     "output_type": "execute_result"
    },
    {
     "data": {
      "image/png": "[encoded data removed]",
      "text/plain": [
       "<Figure size 1440x432 with 1 Axes>"
      ]
     },
     "metadata": {
      "needs_background": "light"
     },
     "output_type": "display_data"
    }
   ],
   "source": [
    "plt.figure(figsize=(20,6));\n",
    "\n",
    "new.groupby(new['Year'])['ZHVI_TopTier'].mean().plot(linewidth=4,c='g')\n",
    "new.groupby(new['Year'])['ZHVI_MiddleTier'].mean().plot(linewidth=4,c='b')\n",
    "new.groupby(new['Year'])['ZHVI_BottomTier'].mean().plot(linewidth=4,c='r')\n",
    "\n",
    "plt.title(\"Real Estate Properties ZHVI for different Tiers in US\",fontsize = 14)\n",
    "plt.legend()\n"
   ]
  },
  {
   "cell_type": "code",
   "execution_count": 13,
   "metadata": {},
   "outputs": [
    {
     "name": "stderr",
     "output_type": "stream",
     "text": [
      "<ipython-input-13-a3c184cd3032>:12: DataConversionWarning: A column-vector y was passed when a 1d array was expected. Please change the shape of y to (n_samples,), for example using ravel().\n",
      "  clf.fit(train_X,train_y)\n"
     ]
    },
    {
     "name": "stdout",
     "output_type": "stream",
     "text": [
      "Modelling Algorithm: RandomForestRegressor\n",
      "RMSLE: 0.03014078146583406\n"
     ]
    }
   ],
   "source": [
    "#Training model\n",
    "x = new[['Year', 'FIPS']]\n",
    "y = new[['AverageHousePrice']] \n",
    "\n",
    "train_X, test_X, train_y, test_y = train_test_split(x, y, test_size=0.2, random_state=0)\n",
    "\n",
    "models=[RandomForestRegressor()]\n",
    "model_names=['RandomForestRegressor']\n",
    "rmsle=\"\"\n",
    "\n",
    "clf=RandomForestRegressor()\n",
    "clf.fit(train_X,train_y)\n",
    "test_pred=clf.predict(test_X)\n",
    "rmsle=str(np.sqrt(mean_squared_log_error(test_pred,test_y)))\n",
    "\n",
    "print(\"Modelling Algorithm: \" + \"RandomForestRegressor\\n\" + \"RMSLE: \" + rmsle)"
   ]
  },
  {
   "cell_type": "code",
   "execution_count": 14,
   "metadata": {},
   "outputs": [
    {
     "name": "stdout",
     "output_type": "stream",
     "text": [
      "These are the first five entries\n",
      "        Year   FIPS\n",
      "402719  2013  45029\n",
      "170060  2008  36027\n",
      "254872  2007  47017\n",
      "25036   2016  13123\n",
      "511631  2015  28005\n",
      "These are the model prediction for these entries\n",
      "[101728.06992338 295262.44648546  57831.43488456 171210.27931937\n",
      " 119600.        ]\n",
      "These are the actual prices\n",
      "        AverageHousePrice\n",
      "402719            99800.0\n",
      "170060           289700.0\n",
      "254872            58100.0\n",
      "25036            170600.0\n",
      "511631           119600.0\n"
     ]
    }
   ],
   "source": [
    "# Generating a few examples\n",
    "print (\"These are the first five entries\")\n",
    "print (test_X[:5])\n",
    "print (\"These are the model prediction for these entries\")\n",
    "print (clf.predict(test_X[:5]))\n",
    "print (\"These are the actual prices\")\n",
    "print (test_y[:5])"
   ]
  },
  {
   "cell_type": "code",
   "execution_count": 21,
   "metadata": {},
   "outputs": [
    {
     "name": "stdout",
     "output_type": "stream",
     "text": [
      "0.020987384905117163\n"
     ]
    }
   ],
   "source": [
    "#parameter tuning\n",
    "params_dict={'n_estimators':[500],'n_jobs':[-1],'max_features':[\"auto\",'sqrt','log2']}\n",
    "clf_rf=GridSearchCV(estimator=RandomForestRegressor(),param_grid=params_dict,scoring='neg_mean_squared_log_error')\n",
    "clf_rf.fit(train_X,train_y)\n",
    "predi=clf_rf.predict(test_X)\n",
    "print((np.sqrt(mean_squared_log_error(predi,test_y))))"
   ]
  },
  {
   "cell_type": "code",
   "execution_count": 22,
   "metadata": {},
   "outputs": [
    {
     "name": "stdout",
     "output_type": "stream",
     "text": [
      "These are the first five entries\n",
      "        Year  FIPS\n",
      "372299  2009  1001\n",
      "372268  2007  1001\n",
      "372238  2004  1001\n",
      "372304  2010  1001\n",
      "372295  2009  1001\n",
      "These are the model prediction for these entries\n",
      "[125556.46778757 129016.39846458 105079.00779025 139158.21103341\n",
      " 125556.46778757]\n",
      "These are the actual prices\n",
      "372299    125300.0\n",
      "372268    127500.0\n",
      "372238    105900.0\n",
      "372304    137600.0\n",
      "372295    124000.0\n",
      "Name: AverageHousePrice, dtype: float64\n"
     ]
    }
   ],
   "source": [
    "# Generating a few examples\n",
    "print (\"These are the first five entries\")\n",
    "print (test_X[:5])\n",
    "print (\"These are the model prediction for these entries\")\n",
    "print (clf_rf.predict(test_X[:5]))\n",
    "print (\"These are the actual prices\")\n",
    "print (test_y[:5])"
   ]
  },
  {
   "cell_type": "code",
   "execution_count": 16,
   "metadata": {},
   "outputs": [
    {
     "name": "stdout",
     "output_type": "stream",
     "text": [
      "Modelling Algorithm: RandomForestRegressor\n",
      "RMSLE: 0.021142197943192744\n"
     ]
    },
    {
     "data": {
      "image/png": "[encoded data removed]",
      "text/plain": [
       "<Figure size 432x288 with 1 Axes>"
      ]
     },
     "metadata": {
      "needs_background": "light"
     },
     "output_type": "display_data"
    }
   ],
   "source": [
    "#Training model\n",
    "x = new[['Year', 'FIPS']]\n",
    "y = new[['FIPS', 'AverageHousePrice']]\n",
    "\n",
    "a = x.loc[x[\"FIPS\"]==1001]\n",
    "b = y.loc[y[\"FIPS\"]==1001]\n",
    "\n",
    "train_X, test_X, train_y, test_y = train_test_split(a, b['AverageHousePrice'], test_size=0.2, random_state=0)\n",
    "\n",
    "models=[RandomForestRegressor()]\n",
    "model_names=['RandomForestRegressor']\n",
    "rmsle=\"\"\n",
    "\n",
    "clf=RandomForestRegressor()\n",
    "clf.fit(train_X,train_y)\n",
    "test_pred=clf.predict(test_X)\n",
    "rmsle=str(np.sqrt(mean_squared_log_error(test_pred,test_y)))\n",
    "\n",
    "print(\"Modelling Algorithm: \" + \"RandomForestRegressor\\n\" + \"RMSLE: \" + rmsle)\n",
    "\n",
    "plt.scatter(test_X[\"Year\"], test_y, color='blue')\n",
    "plt.scatter(test_X[\"Year\"], test_pred, color='orange')\n",
    "plt.xlabel(\"Year\")\n",
    "plt.ylabel(\"Prices\")\n",
    "plt.show()"
   ]
  },
  {
   "cell_type": "code",
   "execution_count": 17,
   "metadata": {},
   "outputs": [
    {
     "name": "stdout",
     "output_type": "stream",
     "text": [
      "Modelling Algorithm: RandomForestRegressor\n",
      "RMSLE: 0.02099658979618441\n"
     ]
    },
    {
     "data": {
      "image/png": "[encoded data removed]",
      "text/plain": [
       "<Figure size 432x288 with 1 Axes>"
      ]
     },
     "metadata": {
      "needs_background": "light"
     },
     "output_type": "display_data"
    }
   ],
   "source": [
    "#parameter tuning\n",
    "params_dict={'n_estimators':[200],'n_jobs':[-1],'max_features':[\"auto\",'sqrt','log2']}\n",
    "clf_rf=GridSearchCV(estimator=RandomForestRegressor(),param_grid=params_dict,scoring='neg_mean_squared_log_error')\n",
    "clf_rf.fit(train_X,train_y)\n",
    "predi=clf_rf.predict(test_X)\n",
    "print(\"Modelling Algorithm: \" + \"RandomForestRegressor\\n\" + \"RMSLE: \" + str(np.sqrt(mean_squared_log_error(predi,test_y))))\n",
    "\n",
    "plt.scatter(test_X[\"Year\"], predi, color='green')\n",
    "plt.scatter(test_X[\"Year\"], test_pred, color='orange')\n",
    "plt.xlabel(\"Year\")\n",
    "plt.ylabel(\"Prices\")\n",
    "plt.show()"
   ]
  },
  {
   "cell_type": "code",
   "execution_count": 18,
   "metadata": {},
   "outputs": [
    {
     "name": "stdout",
     "output_type": "stream",
     "text": [
      "Modelling Algorithm: RandomForestRegressor\n",
      "RMSLE: 0.021064192471826015\n"
     ]
    },
    {
     "data": {
      "image/png": "[encoded data removed]",
      "text/plain": [
       "<Figure size 432x288 with 1 Axes>"
      ]
     },
     "metadata": {
      "needs_background": "light"
     },
     "output_type": "display_data"
    }
   ],
   "source": [
    "#parameter tuning\n",
    "params_dict={'n_estimators':[500],'n_jobs':[-1],'max_features':[\"auto\",'sqrt','log2']}\n",
    "clf_rf=GridSearchCV(estimator=RandomForestRegressor(),param_grid=params_dict,scoring='neg_mean_squared_log_error')\n",
    "clf_rf.fit(train_X,train_y)\n",
    "predi=clf_rf.predict(test_X)\n",
    "print(\"Modelling Algorithm: \" + \"RandomForestRegressor\\n\" + \"RMSLE: \" + str(np.sqrt(mean_squared_log_error(predi,test_y))))\n",
    "\n",
    "plt.scatter(test_X[\"Year\"], predi, color='green')\n",
    "plt.scatter(test_X[\"Year\"], test_pred, color='orange')\n",
    "plt.xlabel(\"Year\")\n",
    "plt.ylabel(\"Prices\")\n",
    "plt.show()"
   ]
  },
  {
   "cell_type": "code",
   "execution_count": 20,
   "metadata": {},
   "outputs": [
    {
     "name": "stdout",
     "output_type": "stream",
     "text": [
      "Modelling Algorithm: RandomForestRegressor\n",
      "RMSLE: 0.021042769445837415\n"
     ]
    },
    {
     "data": {
      "image/png": "[encoded data removed]",
      "text/plain": [
       "<Figure size 432x288 with 1 Axes>"
      ]
     },
     "metadata": {
      "needs_background": "light"
     },
     "output_type": "display_data"
    }
   ],
   "source": [
    "#parameter tuning\n",
    "params_dict={'n_estimators':[800],'n_jobs':[-1],'max_features':[\"auto\",'sqrt','log2']}\n",
    "clf_rf=GridSearchCV(estimator=RandomForestRegressor(),param_grid=params_dict,scoring='neg_mean_squared_log_error')\n",
    "clf_rf.fit(train_X,train_y)\n",
    "predi=clf_rf.predict(test_X)\n",
    "print(\"Modelling Algorithm: \" + \"RandomForestRegressor\\n\" + \"RMSLE: \" + str(np.sqrt(mean_squared_log_error(predi,test_y))))\n",
    "\n",
    "plt.scatter(test_X[\"Year\"], predi, color='green')\n",
    "plt.scatter(test_X[\"Year\"], test_pred, color='orange')\n",
    "plt.xlabel(\"Year\")\n",
    "plt.ylabel(\"Prices\")\n",
    "plt.show()"
   ]
  },
  {
   "cell_type": "code",
   "execution_count": 19,
   "metadata": {},
   "outputs": [
    {
     "name": "stdout",
     "output_type": "stream",
     "text": [
      "Modelling Algorithm: RandomForestRegressor\n",
      "RMSLE: 0.020985326105683252\n"
     ]
    },
    {
     "data": {
      "image/png": "[encoded data removed]",
      "text/plain": [
       "<Figure size 432x288 with 1 Axes>"
      ]
     },
     "metadata": {
      "needs_background": "light"
     },
     "output_type": "display_data"
    }
   ],
   "source": [
    "#parameter tuning\n",
    "params_dict={'n_estimators':[1000],'n_jobs':[-1],'max_features':[\"auto\",'sqrt','log2']}\n",
    "clf_rf=GridSearchCV(estimator=RandomForestRegressor(),param_grid=params_dict,scoring='neg_mean_squared_log_error')\n",
    "clf_rf.fit(train_X,train_y)\n",
    "predi=clf_rf.predict(test_X)\n",
    "print(\"Modelling Algorithm: \" + \"RandomForestRegressor\\n\" + \"RMSLE: \" + str(np.sqrt(mean_squared_log_error(predi,test_y))))\n",
    "\n",
    "plt.scatter(test_X[\"Year\"], predi, color='green')\n",
    "plt.scatter(test_X[\"Year\"], test_pred, color='orange')\n",
    "plt.xlabel(\"Year\")\n",
    "plt.ylabel(\"Prices\")\n",
    "plt.show()"
   ]
  },
  {
   "cell_type": "code",
   "execution_count": 132,
   "metadata": {},
   "outputs": [
    {
     "ename": "KeyError",
     "evalue": "'class_type'",
     "output_type": "error",
     "traceback": [
      "\u001b[0;31m---------------------------------------------------------------------------\u001b[0m",
      "\u001b[0;31mKeyError\u001b[0m                                  Traceback (most recent call last)",
      "\u001b[0;32m~/opt/anaconda3/envs/tensorflow/lib/python3.8/site-packages/pandas/core/indexes/base.py\u001b[0m in \u001b[0;36mget_loc\u001b[0;34m(self, key, method, tolerance)\u001b[0m\n\u001b[1;32m   2894\u001b[0m             \u001b[0;32mtry\u001b[0m\u001b[0;34m:\u001b[0m\u001b[0;34m\u001b[0m\u001b[0;34m\u001b[0m\u001b[0m\n\u001b[0;32m-> 2895\u001b[0;31m                 \u001b[0;32mreturn\u001b[0m \u001b[0mself\u001b[0m\u001b[0;34m.\u001b[0m\u001b[0m_engine\u001b[0m\u001b[0;34m.\u001b[0m\u001b[0mget_loc\u001b[0m\u001b[0;34m(\u001b[0m\u001b[0mcasted_key\u001b[0m\u001b[0;34m)\u001b[0m\u001b[0;34m\u001b[0m\u001b[0;34m\u001b[0m\u001b[0m\n\u001b[0m\u001b[1;32m   2896\u001b[0m             \u001b[0;32mexcept\u001b[0m \u001b[0mKeyError\u001b[0m \u001b[0;32mas\u001b[0m \u001b[0merr\u001b[0m\u001b[0;34m:\u001b[0m\u001b[0;34m\u001b[0m\u001b[0;34m\u001b[0m\u001b[0m\n",
      "\u001b[0;32mpandas/_libs/index.pyx\u001b[0m in \u001b[0;36mpandas._libs.index.IndexEngine.get_loc\u001b[0;34m()\u001b[0m\n",
      "\u001b[0;32mpandas/_libs/index.pyx\u001b[0m in \u001b[0;36mpandas._libs.index.IndexEngine.get_loc\u001b[0;34m()\u001b[0m\n",
      "\u001b[0;32mpandas/_libs/hashtable_class_helper.pxi\u001b[0m in \u001b[0;36mpandas._libs.hashtable.PyObjectHashTable.get_item\u001b[0;34m()\u001b[0m\n",
      "\u001b[0;32mpandas/_libs/hashtable_class_helper.pxi\u001b[0m in \u001b[0;36mpandas._libs.hashtable.PyObjectHashTable.get_item\u001b[0;34m()\u001b[0m\n",
      "\u001b[0;31mKeyError\u001b[0m: 'class_type'",
      "\nThe above exception was the direct cause of the following exception:\n",
      "\u001b[0;31mKeyError\u001b[0m                                  Traceback (most recent call last)",
      "\u001b[0;32m<ipython-input-132-60d209aba349>\u001b[0m in \u001b[0;36m<module>\u001b[0;34m\u001b[0m\n\u001b[1;32m     98\u001b[0m \u001b[0;34m\u001b[0m\u001b[0m\n\u001b[1;32m     99\u001b[0m \u001b[0;31m#Train the tree,print the tree abnd predict the accuracy\u001b[0m\u001b[0;34m\u001b[0m\u001b[0;34m\u001b[0m\u001b[0;34m\u001b[0m\u001b[0m\n\u001b[0;32m--> 100\u001b[0;31m \u001b[0mtree\u001b[0m \u001b[0;34m=\u001b[0m \u001b[0mID3\u001b[0m\u001b[0;34m(\u001b[0m\u001b[0mtraining_data\u001b[0m\u001b[0;34m,\u001b[0m\u001b[0mtraining_data\u001b[0m\u001b[0;34m,\u001b[0m\u001b[0mtraining_data\u001b[0m\u001b[0;34m.\u001b[0m\u001b[0mcolumns\u001b[0m\u001b[0;34m[\u001b[0m\u001b[0;34m:\u001b[0m\u001b[0;34m-\u001b[0m\u001b[0;36m1\u001b[0m\u001b[0;34m]\u001b[0m\u001b[0;34m)\u001b[0m\u001b[0;34m\u001b[0m\u001b[0;34m\u001b[0m\u001b[0m\n\u001b[0m\u001b[1;32m    101\u001b[0m \u001b[0mpprint\u001b[0m\u001b[0;34m(\u001b[0m\u001b[0mtree\u001b[0m\u001b[0;34m)\u001b[0m\u001b[0;34m\u001b[0m\u001b[0;34m\u001b[0m\u001b[0m\n\u001b[1;32m    102\u001b[0m \u001b[0mtest\u001b[0m\u001b[0;34m(\u001b[0m\u001b[0mtesting_data\u001b[0m\u001b[0;34m,\u001b[0m\u001b[0mtree\u001b[0m\u001b[0;34m)\u001b[0m\u001b[0;34m\u001b[0m\u001b[0;34m\u001b[0m\u001b[0m\n",
      "\u001b[0;32m<ipython-input-132-60d209aba349>\u001b[0m in \u001b[0;36mID3\u001b[0;34m(data, originaldata, features, target_attribute_name, parent_node_class)\u001b[0m\n\u001b[1;32m     24\u001b[0m         parent_node_class=None):\n\u001b[1;32m     25\u001b[0m     \u001b[0;31m#If all target_values have the same value,return this value\u001b[0m\u001b[0;34m\u001b[0m\u001b[0;34m\u001b[0m\u001b[0;34m\u001b[0m\u001b[0m\n\u001b[0;32m---> 26\u001b[0;31m     \u001b[0;32mif\u001b[0m \u001b[0mlen\u001b[0m\u001b[0;34m(\u001b[0m\u001b[0mnp\u001b[0m\u001b[0;34m.\u001b[0m\u001b[0munique\u001b[0m\u001b[0;34m(\u001b[0m\u001b[0mdata\u001b[0m\u001b[0;34m[\u001b[0m\u001b[0mtarget_attribute_name\u001b[0m\u001b[0;34m]\u001b[0m\u001b[0;34m)\u001b[0m\u001b[0;34m)\u001b[0m \u001b[0;34m<=\u001b[0m \u001b[0;36m1\u001b[0m\u001b[0;34m:\u001b[0m\u001b[0;34m\u001b[0m\u001b[0;34m\u001b[0m\u001b[0m\n\u001b[0m\u001b[1;32m     27\u001b[0m         \u001b[0;32mreturn\u001b[0m \u001b[0mnp\u001b[0m\u001b[0;34m.\u001b[0m\u001b[0munique\u001b[0m\u001b[0;34m(\u001b[0m\u001b[0mdata\u001b[0m\u001b[0;34m[\u001b[0m\u001b[0mtarget_attribute_name\u001b[0m\u001b[0;34m]\u001b[0m\u001b[0;34m)\u001b[0m\u001b[0;34m[\u001b[0m\u001b[0;36m0\u001b[0m\u001b[0;34m]\u001b[0m\u001b[0;34m\u001b[0m\u001b[0;34m\u001b[0m\u001b[0m\n\u001b[1;32m     28\u001b[0m \u001b[0;34m\u001b[0m\u001b[0m\n",
      "\u001b[0;32m~/opt/anaconda3/envs/tensorflow/lib/python3.8/site-packages/pandas/core/frame.py\u001b[0m in \u001b[0;36m__getitem__\u001b[0;34m(self, key)\u001b[0m\n\u001b[1;32m   2900\u001b[0m             \u001b[0;32mif\u001b[0m \u001b[0mself\u001b[0m\u001b[0;34m.\u001b[0m\u001b[0mcolumns\u001b[0m\u001b[0;34m.\u001b[0m\u001b[0mnlevels\u001b[0m \u001b[0;34m>\u001b[0m \u001b[0;36m1\u001b[0m\u001b[0;34m:\u001b[0m\u001b[0;34m\u001b[0m\u001b[0;34m\u001b[0m\u001b[0m\n\u001b[1;32m   2901\u001b[0m                 \u001b[0;32mreturn\u001b[0m \u001b[0mself\u001b[0m\u001b[0;34m.\u001b[0m\u001b[0m_getitem_multilevel\u001b[0m\u001b[0;34m(\u001b[0m\u001b[0mkey\u001b[0m\u001b[0;34m)\u001b[0m\u001b[0;34m\u001b[0m\u001b[0;34m\u001b[0m\u001b[0m\n\u001b[0;32m-> 2902\u001b[0;31m             \u001b[0mindexer\u001b[0m \u001b[0;34m=\u001b[0m \u001b[0mself\u001b[0m\u001b[0;34m.\u001b[0m\u001b[0mcolumns\u001b[0m\u001b[0;34m.\u001b[0m\u001b[0mget_loc\u001b[0m\u001b[0;34m(\u001b[0m\u001b[0mkey\u001b[0m\u001b[0;34m)\u001b[0m\u001b[0;34m\u001b[0m\u001b[0;34m\u001b[0m\u001b[0m\n\u001b[0m\u001b[1;32m   2903\u001b[0m             \u001b[0;32mif\u001b[0m \u001b[0mis_integer\u001b[0m\u001b[0;34m(\u001b[0m\u001b[0mindexer\u001b[0m\u001b[0;34m)\u001b[0m\u001b[0;34m:\u001b[0m\u001b[0;34m\u001b[0m\u001b[0;34m\u001b[0m\u001b[0m\n\u001b[1;32m   2904\u001b[0m                 \u001b[0mindexer\u001b[0m \u001b[0;34m=\u001b[0m \u001b[0;34m[\u001b[0m\u001b[0mindexer\u001b[0m\u001b[0;34m]\u001b[0m\u001b[0;34m\u001b[0m\u001b[0;34m\u001b[0m\u001b[0m\n",
      "\u001b[0;32m~/opt/anaconda3/envs/tensorflow/lib/python3.8/site-packages/pandas/core/indexes/base.py\u001b[0m in \u001b[0;36mget_loc\u001b[0;34m(self, key, method, tolerance)\u001b[0m\n\u001b[1;32m   2895\u001b[0m                 \u001b[0;32mreturn\u001b[0m \u001b[0mself\u001b[0m\u001b[0;34m.\u001b[0m\u001b[0m_engine\u001b[0m\u001b[0;34m.\u001b[0m\u001b[0mget_loc\u001b[0m\u001b[0;34m(\u001b[0m\u001b[0mcasted_key\u001b[0m\u001b[0;34m)\u001b[0m\u001b[0;34m\u001b[0m\u001b[0;34m\u001b[0m\u001b[0m\n\u001b[1;32m   2896\u001b[0m             \u001b[0;32mexcept\u001b[0m \u001b[0mKeyError\u001b[0m \u001b[0;32mas\u001b[0m \u001b[0merr\u001b[0m\u001b[0;34m:\u001b[0m\u001b[0;34m\u001b[0m\u001b[0;34m\u001b[0m\u001b[0m\n\u001b[0;32m-> 2897\u001b[0;31m                 \u001b[0;32mraise\u001b[0m \u001b[0mKeyError\u001b[0m\u001b[0;34m(\u001b[0m\u001b[0mkey\u001b[0m\u001b[0;34m)\u001b[0m \u001b[0;32mfrom\u001b[0m \u001b[0merr\u001b[0m\u001b[0;34m\u001b[0m\u001b[0;34m\u001b[0m\u001b[0m\n\u001b[0m\u001b[1;32m   2898\u001b[0m \u001b[0;34m\u001b[0m\u001b[0m\n\u001b[1;32m   2899\u001b[0m         \u001b[0;32mif\u001b[0m \u001b[0mtolerance\u001b[0m \u001b[0;32mis\u001b[0m \u001b[0;32mnot\u001b[0m \u001b[0;32mNone\u001b[0m\u001b[0;34m:\u001b[0m\u001b[0;34m\u001b[0m\u001b[0;34m\u001b[0m\u001b[0m\n",
      "\u001b[0;31mKeyError\u001b[0m: 'class_type'"
     ]
    }
   ],
   "source": [
    "#import the dataset\n",
    "dataset = new\n",
    "\n",
    "###defining entropy\n",
    "def entropy(target_col):\n",
    "    elements,counts = np.unique(target_col,return_counts=True)\n",
    "    entropy = np.sum([(-counts[i]/np.sum(counts))*np.log2(counts[i]/np.sum(counts)) for i in range(len(elements))])\n",
    "    return entropy\n",
    "  \n",
    "##Info Gain\n",
    "\n",
    "def InfoGain(data,split_attribute_name,target_name=\"class_type\"):\n",
    "    total_entropy = entropy(data[target_name])\n",
    "    vals,counts = np.unique(data[split_attribute_name],return_counts=True)\n",
    "    #cal the weighted entropy\n",
    "    Weighted_Entropy = np.sum([(counts[i]/np.sum(counts))*entropy(data.where(data[split_attribute_name]==vals[i]).\n",
    "                                dropna()[target_name])for i in range(len(vals))])\n",
    "    \n",
    "    #formula for information gain\n",
    "    Information_Gain = total_entropy-Weighted_Entropy\n",
    "    return Information_Gain\n",
    "\n",
    "def ID3(data,originaldata,features,target_attribute_name=\"class_type\",\n",
    "        parent_node_class=None):\n",
    "    #If all target_values have the same value,return this value\n",
    "    if len(np.unique(data[target_attribute_name])) <= 1:\n",
    "        return np.unique(data[target_attribute_name])[0]\n",
    "    \n",
    "    #if the dataset is empty\n",
    "    elif len(data) == 0:\n",
    "        return np.unique(originaldata[target_attribute_name])[np.argmax(np.unique(originaldata[target_attribute_name],\n",
    "                                                                           return_counts=True)[1])]\n",
    "    \n",
    "    #If the feature space is empty\n",
    "    elif len(features) == 0:\n",
    "        return parent_node_class \n",
    "\n",
    "    #If none of the above condition holds true grow the tree\n",
    "\n",
    "    else:\n",
    "        parent_node_class = np.unique(data[target_attribute_name])[np.argmax(np.unique(data[target_attribute_name],\n",
    "                                                                           return_counts=True)[1])]\n",
    "\n",
    "    #Select the feature which best splits the dataset\n",
    "    item_values = [InfoGain(data,feature,target_attribute_name)for feature in features] #Return the infgain values\n",
    "    best_feature_index = np.argmax(item_values)\n",
    "    best_feature = features[best_feature_index]\n",
    "\n",
    "    #Create the tree structure\n",
    "    tree = {best_feature:{}}\n",
    "\n",
    "    #Remve the feature with the best info gain\n",
    "    features = [i for i in features if i!= best_feature]\n",
    "\n",
    "    #Grow the tree branch under the root node\n",
    "\n",
    "    for value in np.unique(data[best_feature]):\n",
    "        value = value\n",
    "        sub_data = data.where(data[best_feature]==value).dropna()\n",
    "        #call the ID3 algotirthm\n",
    "        subtree = ID3(sub_data,dataset,features,target_attribute_name,parent_node_class)\n",
    "        #Add the subtree\n",
    "        tree[best_feature][value] = subtree\n",
    "    return(tree)\n",
    "\n",
    "#Predict\n",
    "def predict(query,tree,default=1):\n",
    "    for key in list(query.keys()):\n",
    "        if key in list(tree.keys()):\n",
    "            try:\n",
    "               result = tree[key][query[key]]\n",
    "            except:\n",
    "               return default\n",
    "\n",
    "            result = tree[key][query[key]]\n",
    "            if isinstance(result,dict):\n",
    "                return predict(query,result)\n",
    "            else:\n",
    "                return result\n",
    "##check the accuracy\n",
    "\n",
    "def train_test_split(dataset):\n",
    "    training_data = dataset.iloc[:80].reset_index(drop=True)\n",
    "    testing_data = dataset.iloc[80:].reset_index(drop=True)\n",
    "    return training_data,testing_data\n",
    "training_data = train_test_split(dataset)[0]\n",
    "testing_data = train_test_split(dataset)[1]\n",
    "\n",
    "def test(data,tree):\n",
    "   queries = data.iloc[:,:-1].to_dict(orient=\"records\")\n",
    "   predicted = pd.DataFrame(columns=[\"predicted\"])\n",
    "\n",
    "   #calculation of accuracy\n",
    "\n",
    "   for i in range(len(data)):\n",
    "       predicted.loc[i,\"predicted\"] = predict(queries[i],tree,1.0)\n",
    "   print(\"The Prediction accuracy is:\",(np.sum(predicted[\"predicted\"]==data[\"class_type\"])/len(data))*100,'%')\n",
    "  \n",
    "#Train the tree,print the tree abnd predict the accuracy\n",
    "tree = ID3(training_data,training_data,training_data.columns[:-1])\n",
    "pprint(tree)\n",
    "test(testing_data,tree)"
   ]
  },
  {
   "cell_type": "code",
   "execution_count": null,
   "metadata": {},
   "outputs": [],
   "source": []
  }
 ],
 "metadata": {
  "kernelspec": {
   "display_name": "Python 3",
   "language": "python",
   "name": "python3"
  },
  "language_info": {
   "codemirror_mode": {
    "name": "ipython",
    "version": 3
   },
   "file_extension": ".py",
   "mimetype": "text/x-python",
   "name": "python",
   "nbconvert_exporter": "python",
   "pygments_lexer": "ipython3",
   "version": "3.8.5"
  }
 },
 "nbformat": 4,
 "nbformat_minor": 4
}
